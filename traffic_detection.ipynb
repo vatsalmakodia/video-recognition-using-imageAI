{
 "cells": [
  {
   "cell_type": "code",
   "execution_count": null,
   "id": "e819bee0",
   "metadata": {},
   "outputs": [],
   "source": [
    "# if using ImageAI for the first time use the following commands in terminal to install these:\n",
    "# pip install python==3.7.6\n",
    "# pip install tensorflow==2.4.0\n",
    "# pip install keras==2.4.3 numpy==1.19.3 pillow==7.0.0 scipy==1.4.1 h5py==2.10.0 matplotlib==3.3.2 opencv-python keras-resnet==0.2.0\n",
    "# pip install imageai --upgrade"
   ]
  },
  {
   "cell_type": "code",
   "execution_count": null,
   "id": "55087567",
   "metadata": {},
   "outputs": [],
   "source": [
    "from imageai.Detection import VideoObjectDetection\n",
    "import os\n",
    "\n",
    "execution_path = os.getcwd()\n",
    "\n",
    "detector = VideoObjectDetection()\n",
    "detector.setModelTypeAsRetinaNet()\n",
    "detector.setModelPath( os.path.join(execution_path , \"resnet50_coco_best_v2.1.0.h5\"))\n",
    "detector.loadModel()\n",
    "\n",
    "video_path = detector.detectObjectsFromVideo(input_file_path=os.path.join(execution_path, \"road_traffic.mp4\"), output_file_path=os.path.join(execution_path, \"road_traffic_detected.mp4\"), frames_per_second=30, log_progress=True, display_percentage_probability=False,minimum_percentage_probability=45)\n",
    "\n",
    "print(video_path)"
   ]
  }
 ],
 "metadata": {
  "kernelspec": {
   "display_name": "Python3.7.6Test",
   "language": "python",
   "name": "python3.7.6test"
  },
  "language_info": {
   "codemirror_mode": {
    "name": "ipython",
    "version": 3
   },
   "file_extension": ".py",
   "mimetype": "text/x-python",
   "name": "python",
   "nbconvert_exporter": "python",
   "pygments_lexer": "ipython3",
   "version": "3.7.6"
  }
 },
 "nbformat": 4,
 "nbformat_minor": 5
}
